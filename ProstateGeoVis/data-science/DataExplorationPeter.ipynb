{
 "cells": [
  {
   "cell_type": "markdown",
   "metadata": {
    "deletable": true,
    "editable": true
   },
   "source": [
    "Import libs"
   ]
  },
  {
   "cell_type": "code",
   "execution_count": 4,
   "metadata": {
    "collapsed": false,
    "deletable": true,
    "editable": true
   },
   "outputs": [],
   "source": [
    "import pandas as pd\n",
    "import numpy as np\n",
    "import functools as ft\n",
    "import matplotlib.pyplot as plt"
   ]
  },
  {
   "cell_type": "markdown",
   "metadata": {
    "deletable": true,
    "editable": true
   },
   "source": [
    "Load the data\n",
    "Before the second step, do \"pip3 install xlrd\""
   ]
  },
  {
   "cell_type": "code",
   "execution_count": 6,
   "metadata": {
    "collapsed": false,
    "deletable": true,
    "editable": true
   },
   "outputs": [],
   "source": [
    "date_parser = ft.partial(pd.to_datetime,format =\"%d%b%Y\")\n",
    "\n",
    "MUNICIPLAITY_CODE_2_STR = {\n",
    "    \"0114\": \"Upplands Väsby\",\n",
    "    \"0115\": \"Vallentuna\",\n",
    "    \"0117\": \"Österåker\",\n",
    "    \"0120\": \"Värmdö\",\n",
    "    \"0123\": \"Järfälla\",\n",
    "    \"0125\": \"Ekerö\",\n",
    "    \"0126\": \"Huddinge\",\n",
    "    \"0127\": \"Botkyrka\",\n",
    "    \"0128\": \"Salem\",\n",
    "    \"0136\": \"Haninge\",\n",
    "    \"0138\": \"Tyresö\",\n",
    "    \"0139\": \"Upplands-Bro\",\n",
    "    \"0140\": \"Nykvarn\",\n",
    "    \"0160\": \"Täby\",\n",
    "    \"0162\": \"Danderyd\",\n",
    "    \"0163\": \"Sollentuna\",\n",
    "    \"0180\": \"Stockholm\",\n",
    "    \"0181\": \"Södertälje\",\n",
    "    \"0182\": \"Nacka\",\n",
    "    \"0183\": \"Sundbyberg\",\n",
    "    \"0184\": \"Solna\",\n",
    "    \"0186\": \"Lidingö\",\n",
    "    \"0187\": \"Vaxholm\",\n",
    "    \"0188\": \"Norrtälje\",\n",
    "    \"0191\": \"Sigtuna\",\n",
    "    \"0192\": \"Nynäshamn\"\n",
    "}\n",
    "\n",
    "DATASET_BASE = \"../dataset/\"\n",
    "\n",
    "PERSON = pd.read_csv(DATASET_BASE + \"person.csv\", index_col=\"lopnr_new\",\n",
    "                     parse_dates=[\"birth_date\",\"deathdate\"],date_parser=date_parser\n",
    "                    ).rename(columns={\"deathdate\":\"death_date\"})\n",
    "\n",
    "DIAGNOSES = pd.read_csv(DATASET_BASE + \"diagnoses.csv\", index_col=\"lopnr_new\",\n",
    "                       parse_dates=[\"diagdate\",\"rad_date\",\"kem_date\",\"surg_date\"],\n",
    "                        date_parser=date_parser,dtype={\"lkf_dx\":np.str}\n",
    "                       ).replace({\"lkf_dx\":MUNICIPLAITY_CODE_2_STR})\n",
    "\n",
    "PSA = pd.read_csv(DATASET_BASE + \"psa.csv\", index_col=\"psa_sample_id_new\",\n",
    "                 parse_dates=[\"psadate\"],date_parser=date_parser,dtype={\"lkf_psa\":np.str}\n",
    "                 ).replace({\"lkf_psa\":MUNICIPLAITY_CODE_2_STR})\n",
    "\n",
    "BIOPPSY = pd.read_csv(DATASET_BASE + \"biopsy.csv\", index_col=\"referral_id_new\",\n",
    "                     parse_dates=[\"bioreferral_date\"],date_parser=date_parser,\n",
    "                     dtype={\"lkf_bio\":np.str}\n",
    "                     ).replace({\"lkf_bio\":MUNICIPLAITY_CODE_2_STR})\n",
    "\n",
    "CODE_BOOK = pd.read_excel(DATASET_BASE + \"Codebook.xlsx\",sheetname = [\"person\",\"diagnoses\",\"biopsy\",\"psa\"])\n",
    "\n",
    "municipality_code_2_string = {}"
   ]
  },
  {
   "cell_type": "markdown",
   "metadata": {
    "deletable": true,
    "editable": true
   },
   "source": [
    "Lets take a look what fields are in the different tables"
   ]
  },
  {
   "cell_type": "code",
   "execution_count": 186,
   "metadata": {
    "collapsed": false,
    "deletable": true,
    "editable": true
   },
   "outputs": [
    {
     "data": {
      "text/html": [
       "<div>\n",
       "<table border=\"1\" class=\"dataframe\">\n",
       "  <thead>\n",
       "    <tr style=\"text-align: right;\">\n",
       "      <th></th>\n",
       "      <th>Variable</th>\n",
       "      <th>Type</th>\n",
       "      <th>Description</th>\n",
       "      <th>Key</th>\n",
       "    </tr>\n",
       "  </thead>\n",
       "  <tbody>\n",
       "    <tr>\n",
       "      <th>0</th>\n",
       "      <td>lopnr_new</td>\n",
       "      <td>numeric</td>\n",
       "      <td>Anonymized Unique ID for a person , key for in...</td>\n",
       "      <td>Primary</td>\n",
       "    </tr>\n",
       "    <tr>\n",
       "      <th>1</th>\n",
       "      <td>birth_date</td>\n",
       "      <td>date</td>\n",
       "      <td>Date of birth</td>\n",
       "      <td>NaN</td>\n",
       "    </tr>\n",
       "    <tr>\n",
       "      <th>2</th>\n",
       "      <td>inc_grp</td>\n",
       "      <td>numeric, categorical</td>\n",
       "      <td>Income in quartiles, 0-3</td>\n",
       "      <td>NaN</td>\n",
       "    </tr>\n",
       "    <tr>\n",
       "      <th>3</th>\n",
       "      <td>death</td>\n",
       "      <td>binary</td>\n",
       "      <td>Information if a man has died. Values: 1 if de...</td>\n",
       "      <td>NaN</td>\n",
       "    </tr>\n",
       "    <tr>\n",
       "      <th>4</th>\n",
       "      <td>pc_death</td>\n",
       "      <td>binary</td>\n",
       "      <td>Information if man death cause is registered p...</td>\n",
       "      <td>NaN</td>\n",
       "    </tr>\n",
       "    <tr>\n",
       "      <th>5</th>\n",
       "      <td>death_date</td>\n",
       "      <td>date</td>\n",
       "      <td>Date of death</td>\n",
       "      <td>NaN</td>\n",
       "    </tr>\n",
       "    <tr>\n",
       "      <th>6</th>\n",
       "      <td>birth_place</td>\n",
       "      <td>characters, categorical</td>\n",
       "      <td>Birth country, 1=Sweden, 2=Nordic countries, 3...</td>\n",
       "      <td>NaN</td>\n",
       "    </tr>\n",
       "  </tbody>\n",
       "</table>\n",
       "</div>"
      ],
      "text/plain": [
       "      Variable                     Type  \\\n",
       "0    lopnr_new                  numeric   \n",
       "1   birth_date                     date   \n",
       "2      inc_grp    numeric, categorical    \n",
       "3        death                   binary   \n",
       "4     pc_death                   binary   \n",
       "5   death_date                     date   \n",
       "6  birth_place  characters, categorical   \n",
       "\n",
       "                                         Description      Key  \n",
       "0  Anonymized Unique ID for a person , key for in...  Primary  \n",
       "1                                      Date of birth      NaN  \n",
       "2                           Income in quartiles, 0-3      NaN  \n",
       "3  Information if a man has died. Values: 1 if de...      NaN  \n",
       "4  Information if man death cause is registered p...      NaN  \n",
       "5                                      Date of death      NaN  \n",
       "6  Birth country, 1=Sweden, 2=Nordic countries, 3...      NaN  "
      ]
     },
     "execution_count": 186,
     "metadata": {},
     "output_type": "execute_result"
    }
   ],
   "source": [
    "CODE_BOOK[\"person\"]"
   ]
  },
  {
   "cell_type": "code",
   "execution_count": 187,
   "metadata": {
    "collapsed": false,
    "deletable": true,
    "editable": true,
    "scrolled": true
   },
   "outputs": [
    {
     "data": {
      "text/html": [
       "<div>\n",
       "<table border=\"1\" class=\"dataframe\">\n",
       "  <thead>\n",
       "    <tr style=\"text-align: right;\">\n",
       "      <th></th>\n",
       "      <th>Variable</th>\n",
       "      <th>Type</th>\n",
       "      <th>Description</th>\n",
       "      <th>Key</th>\n",
       "    </tr>\n",
       "  </thead>\n",
       "  <tbody>\n",
       "    <tr>\n",
       "      <th>0</th>\n",
       "      <td>lopnr_new</td>\n",
       "      <td>numeric</td>\n",
       "      <td>Anonymized Unique ID for a person , key for in...</td>\n",
       "      <td>Primary forign(person )</td>\n",
       "    </tr>\n",
       "    <tr>\n",
       "      <th>1</th>\n",
       "      <td>diagdate</td>\n",
       "      <td>date</td>\n",
       "      <td>Date of prostate cancer diagnosis</td>\n",
       "      <td>NaN</td>\n",
       "    </tr>\n",
       "    <tr>\n",
       "      <th>2</th>\n",
       "      <td>referral_id_new</td>\n",
       "      <td>numeric</td>\n",
       "      <td>Referral id number of the biopsy that is close...</td>\n",
       "      <td>forign(biopsy)</td>\n",
       "    </tr>\n",
       "    <tr>\n",
       "      <th>3</th>\n",
       "      <td>trigger_psa_id</td>\n",
       "      <td>numeric</td>\n",
       "      <td>The PSA test that triggers the biopsy.  Format...</td>\n",
       "      <td>forign(psa)</td>\n",
       "    </tr>\n",
       "    <tr>\n",
       "      <th>4</th>\n",
       "      <td>index_psa_id</td>\n",
       "      <td>numeric</td>\n",
       "      <td>The PSA test that raises concern of cancer.   ...</td>\n",
       "      <td>forign(psa)</td>\n",
       "    </tr>\n",
       "    <tr>\n",
       "      <th>5</th>\n",
       "      <td>diagnosis_cause</td>\n",
       "      <td>numeric, categorical</td>\n",
       "      <td>As registered when patients are diagnosed.  Va...</td>\n",
       "      <td>NaN</td>\n",
       "    </tr>\n",
       "    <tr>\n",
       "      <th>6</th>\n",
       "      <td>gleason_t</td>\n",
       "      <td>numeric, categorical</td>\n",
       "      <td>The total gleason score found in the biopsy. G...</td>\n",
       "      <td>NaN</td>\n",
       "    </tr>\n",
       "    <tr>\n",
       "      <th>7</th>\n",
       "      <td>t_stage</td>\n",
       "      <td>character, categorical</td>\n",
       "      <td>t-stage of the cancer in biopsy. Values: T0, T...</td>\n",
       "      <td>NaN</td>\n",
       "    </tr>\n",
       "    <tr>\n",
       "      <th>8</th>\n",
       "      <td>m_stage</td>\n",
       "      <td>character, categorical</td>\n",
       "      <td>m-stage of the cancer in biopsy.(Values: M0, M...</td>\n",
       "      <td>NaN</td>\n",
       "    </tr>\n",
       "    <tr>\n",
       "      <th>9</th>\n",
       "      <td>n_stage</td>\n",
       "      <td>character, categorical</td>\n",
       "      <td>n-stage of the cancer in biopsy. Values: N0, N...</td>\n",
       "      <td>NaN</td>\n",
       "    </tr>\n",
       "    <tr>\n",
       "      <th>10</th>\n",
       "      <td>lkf_dx</td>\n",
       "      <td>character</td>\n",
       "      <td>County and municipality where the person lived...</td>\n",
       "      <td>NaN</td>\n",
       "    </tr>\n",
       "    <tr>\n",
       "      <th>11</th>\n",
       "      <td>rad_date</td>\n",
       "      <td>date</td>\n",
       "      <td>Date of first radiotherapy treatment</td>\n",
       "      <td>NaN</td>\n",
       "    </tr>\n",
       "    <tr>\n",
       "      <th>12</th>\n",
       "      <td>kem_date</td>\n",
       "      <td>date</td>\n",
       "      <td>Date of first chemotherapy treatment</td>\n",
       "      <td>NaN</td>\n",
       "    </tr>\n",
       "    <tr>\n",
       "      <th>13</th>\n",
       "      <td>surg_date</td>\n",
       "      <td>date</td>\n",
       "      <td>Date of surgery for prostate cancer</td>\n",
       "      <td>NaN</td>\n",
       "    </tr>\n",
       "    <tr>\n",
       "      <th>14</th>\n",
       "      <td>b_behtyp</td>\n",
       "      <td>numeric, categorical</td>\n",
       "      <td>Treatment type. Values, 1=Conservative therapy...</td>\n",
       "      <td>NaN</td>\n",
       "    </tr>\n",
       "  </tbody>\n",
       "</table>\n",
       "</div>"
      ],
      "text/plain": [
       "            Variable                     Type  \\\n",
       "0          lopnr_new                  numeric   \n",
       "1          diagdate                      date   \n",
       "2   referral_id_new                   numeric   \n",
       "3    trigger_psa_id                   numeric   \n",
       "4      index_psa_id                   numeric   \n",
       "5   diagnosis_cause     numeric, categorical    \n",
       "6         gleason_t     numeric, categorical    \n",
       "7           t_stage   character, categorical    \n",
       "8           m_stage   character, categorical    \n",
       "9           n_stage   character, categorical    \n",
       "10            lkf_dx                character   \n",
       "11          rad_date                     date   \n",
       "12          kem_date                     date   \n",
       "13         surg_date                     date   \n",
       "14          b_behtyp    numeric, categorical    \n",
       "\n",
       "                                          Description                      Key  \n",
       "0   Anonymized Unique ID for a person , key for in...  Primary forign(person )  \n",
       "1                   Date of prostate cancer diagnosis                      NaN  \n",
       "2   Referral id number of the biopsy that is close...           forign(biopsy)  \n",
       "3   The PSA test that triggers the biopsy.  Format...              forign(psa)  \n",
       "4   The PSA test that raises concern of cancer.   ...              forign(psa)  \n",
       "5   As registered when patients are diagnosed.  Va...                      NaN  \n",
       "6   The total gleason score found in the biopsy. G...                      NaN  \n",
       "7   t-stage of the cancer in biopsy. Values: T0, T...                      NaN  \n",
       "8   m-stage of the cancer in biopsy.(Values: M0, M...                      NaN  \n",
       "9   n-stage of the cancer in biopsy. Values: N0, N...                      NaN  \n",
       "10  County and municipality where the person lived...                      NaN  \n",
       "11               Date of first radiotherapy treatment                      NaN  \n",
       "12               Date of first chemotherapy treatment                      NaN  \n",
       "13                Date of surgery for prostate cancer                      NaN  \n",
       "14  Treatment type. Values, 1=Conservative therapy...                      NaN  "
      ]
     },
     "execution_count": 187,
     "metadata": {},
     "output_type": "execute_result"
    }
   ],
   "source": [
    "CODE_BOOK[\"diagnoses\"]"
   ]
  },
  {
   "cell_type": "code",
   "execution_count": 188,
   "metadata": {
    "collapsed": false,
    "deletable": true,
    "editable": true
   },
   "outputs": [
    {
     "data": {
      "text/html": [
       "<div>\n",
       "<table border=\"1\" class=\"dataframe\">\n",
       "  <thead>\n",
       "    <tr style=\"text-align: right;\">\n",
       "      <th></th>\n",
       "      <th>Variable</th>\n",
       "      <th>Type</th>\n",
       "      <th>Description</th>\n",
       "      <th>Key</th>\n",
       "    </tr>\n",
       "  </thead>\n",
       "  <tbody>\n",
       "    <tr>\n",
       "      <th>0</th>\n",
       "      <td>lopnr_new</td>\n",
       "      <td>numeric</td>\n",
       "      <td>Anonymized Unique ID for a person , key for in...</td>\n",
       "      <td>forign(person)</td>\n",
       "    </tr>\n",
       "    <tr>\n",
       "      <th>1</th>\n",
       "      <td>cancer_in_biopsy</td>\n",
       "      <td>binary</td>\n",
       "      <td>An indicator if there was diagnosed a cancer i...</td>\n",
       "      <td>NaN</td>\n",
       "    </tr>\n",
       "    <tr>\n",
       "      <th>2</th>\n",
       "      <td>bioreferral_date</td>\n",
       "      <td>date</td>\n",
       "      <td>Date of the referral to biopsy</td>\n",
       "      <td>NaN</td>\n",
       "    </tr>\n",
       "    <tr>\n",
       "      <th>3</th>\n",
       "      <td>referral_id_new</td>\n",
       "      <td>numeric</td>\n",
       "      <td>Identification code for a particular biopsy, u...</td>\n",
       "      <td>primary</td>\n",
       "    </tr>\n",
       "    <tr>\n",
       "      <th>4</th>\n",
       "      <td>lkf_bio</td>\n",
       "      <td>character</td>\n",
       "      <td>County and municipality where the person lived...</td>\n",
       "      <td>NaN</td>\n",
       "    </tr>\n",
       "    <tr>\n",
       "      <th>5</th>\n",
       "      <td>index_psa_id</td>\n",
       "      <td>numeric</td>\n",
       "      <td>The PSA test that raises concern of cancer.   ...</td>\n",
       "      <td>forign(psa)</td>\n",
       "    </tr>\n",
       "    <tr>\n",
       "      <th>6</th>\n",
       "      <td>trigger_psa_id</td>\n",
       "      <td>numeric</td>\n",
       "      <td>The PSA test that triggers the biopsy.  Format...</td>\n",
       "      <td>forign(psa)</td>\n",
       "    </tr>\n",
       "  </tbody>\n",
       "</table>\n",
       "</div>"
      ],
      "text/plain": [
       "           Variable       Type  \\\n",
       "0         lopnr_new    numeric   \n",
       "1  cancer_in_biopsy     binary   \n",
       "2  bioreferral_date       date   \n",
       "3   referral_id_new    numeric   \n",
       "4           lkf_bio  character   \n",
       "5      index_psa_id    numeric   \n",
       "6    trigger_psa_id    numeric   \n",
       "\n",
       "                                         Description             Key  \n",
       "0  Anonymized Unique ID for a person , key for in...  forign(person)  \n",
       "1  An indicator if there was diagnosed a cancer i...             NaN  \n",
       "2                     Date of the referral to biopsy             NaN  \n",
       "3  Identification code for a particular biopsy, u...         primary  \n",
       "4  County and municipality where the person lived...             NaN  \n",
       "5  The PSA test that raises concern of cancer.   ...     forign(psa)  \n",
       "6  The PSA test that triggers the biopsy.  Format...     forign(psa)  "
      ]
     },
     "execution_count": 188,
     "metadata": {},
     "output_type": "execute_result"
    }
   ],
   "source": [
    "CODE_BOOK[\"biopsy\"]"
   ]
  },
  {
   "cell_type": "code",
   "execution_count": 195,
   "metadata": {
    "collapsed": false,
    "deletable": true,
    "editable": true
   },
   "outputs": [
    {
     "data": {
      "text/plain": [
       "'Value of the total PSA level for a particular PSA test'"
      ]
     },
     "execution_count": 195,
     "metadata": {},
     "output_type": "execute_result"
    }
   ],
   "source": [
    "CODE_BOOK[\"psa\"].loc[2,\"Description\"]"
   ]
  },
  {
   "cell_type": "code",
   "execution_count": 190,
   "metadata": {
    "collapsed": false,
    "deletable": true,
    "editable": true
   },
   "outputs": [],
   "source": [
    "data_set = PERSON.join(DIAGNOSES)[[\"birth_date\",\"inc_grp\",\"diagdate\",\"death\",\"pc_death\",\"birth_place\"]\n",
    "                      ].rename(columns={\"lkf_dx\":\"Kommun\"})\n",
    "data_set.to_csv(DATASET_BASE + \"experimental_data.csv\")"
   ]
  },
  {
   "cell_type": "markdown",
   "metadata": {
    "deletable": true,
    "editable": true
   },
   "source": [
    "Dataset with person, living place, and first psa visit"
   ]
  },
  {
   "cell_type": "code",
   "execution_count": 219,
   "metadata": {
    "collapsed": false,
    "deletable": true,
    "editable": true,
    "scrolled": false
   },
   "outputs": [],
   "source": [
    "first_psa = PSA.set_index(\n",
    "    [\"lopnr_new\",\"psadate\"]).sort_index().groupby(level = 0).head(1).rename(\n",
    "    columns={\"lkf_psa\":\"municipality\"}).loc[:,[\"psa_total\",\"municipality\"]]\n",
    "\n",
    "first_psa = first_psa[first_psa[\"psa_total\"] > 10].join(DIAGNOSES[\"diagnosis_cause\"]).join(\n",
    "    PERSON[[\"birth_date\",\"death\",\"pc_death\",\"death_date\"]])\n",
    "first_psa.to_csv(DATASET_BASE + \"first_psa_and_death.csv\")\n",
    "#psa_.join(DIAGNOSES).dropna(axis=0,subset=[\"diagnosis_cause\"]).reset_index()"
   ]
  },
  {
   "cell_type": "code",
   "execution_count": 8,
   "metadata": {
    "collapsed": false
   },
   "outputs": [
    {
     "data": {
      "text/html": [
       "<div>\n",
       "<table border=\"1\" class=\"dataframe\">\n",
       "  <thead>\n",
       "    <tr style=\"text-align: right;\">\n",
       "      <th></th>\n",
       "      <th>Variable</th>\n",
       "      <th>Type</th>\n",
       "      <th>Description</th>\n",
       "      <th>Key</th>\n",
       "    </tr>\n",
       "  </thead>\n",
       "  <tbody>\n",
       "    <tr>\n",
       "      <th>0</th>\n",
       "      <td>lopnr_new</td>\n",
       "      <td>numeric</td>\n",
       "      <td>Anonymized Unique ID for a person , key for me...</td>\n",
       "      <td>forign(Person)</td>\n",
       "    </tr>\n",
       "    <tr>\n",
       "      <th>1</th>\n",
       "      <td>psadate</td>\n",
       "      <td>date</td>\n",
       "      <td>Date of psa test</td>\n",
       "      <td>NaN</td>\n",
       "    </tr>\n",
       "    <tr>\n",
       "      <th>2</th>\n",
       "      <td>psa_total</td>\n",
       "      <td>numeric</td>\n",
       "      <td>Value of the total PSA level for a particular ...</td>\n",
       "      <td>NaN</td>\n",
       "    </tr>\n",
       "    <tr>\n",
       "      <th>3</th>\n",
       "      <td>psa_fot</td>\n",
       "      <td>numeric</td>\n",
       "      <td>Free psa level divided by total psa level</td>\n",
       "      <td>NaN</td>\n",
       "    </tr>\n",
       "    <tr>\n",
       "      <th>4</th>\n",
       "      <td>lkf_psa</td>\n",
       "      <td>character</td>\n",
       "      <td>County and municipality where the person lived...</td>\n",
       "      <td>NaN</td>\n",
       "    </tr>\n",
       "    <tr>\n",
       "      <th>5</th>\n",
       "      <td>psa_sample_id_new</td>\n",
       "      <td>numeric</td>\n",
       "      <td>Identification code for a particular PSA test,...</td>\n",
       "      <td>primary</td>\n",
       "    </tr>\n",
       "  </tbody>\n",
       "</table>\n",
       "</div>"
      ],
      "text/plain": [
       "            Variable       Type  \\\n",
       "0          lopnr_new    numeric   \n",
       "1            psadate       date   \n",
       "2          psa_total    numeric   \n",
       "3            psa_fot    numeric   \n",
       "4            lkf_psa  character   \n",
       "5  psa_sample_id_new    numeric   \n",
       "\n",
       "                                         Description              Key  \n",
       "0  Anonymized Unique ID for a person , key for me...   forign(Person)  \n",
       "1                                   Date of psa test              NaN  \n",
       "2  Value of the total PSA level for a particular ...              NaN  \n",
       "3          Free psa level divided by total psa level              NaN  \n",
       "4  County and municipality where the person lived...              NaN  \n",
       "5  Identification code for a particular PSA test,...          primary  "
      ]
     },
     "execution_count": 8,
     "metadata": {},
     "output_type": "execute_result"
    }
   ],
   "source": [
    "CODE_BOOK[\"psa\"]"
   ]
  },
  {
   "cell_type": "code",
   "execution_count": 20,
   "metadata": {
    "collapsed": false
   },
   "outputs": [],
   "source": [
    "test = PERSON.join(DIAGNOSES)\n",
    "\n",
    "test = test.join(PSA)\n",
    "test.to_csv(\"mergetest.csv\")"
   ]
  },
  {
   "cell_type": "code",
   "execution_count": null,
   "metadata": {
    "collapsed": true
   },
   "outputs": [],
   "source": []
  }
 ],
 "metadata": {
  "kernelspec": {
   "display_name": "Python 3",
   "language": "python",
   "name": "python3"
  },
  "language_info": {
   "codemirror_mode": {
    "name": "ipython",
    "version": 3
   },
   "file_extension": ".py",
   "mimetype": "text/x-python",
   "name": "python",
   "nbconvert_exporter": "python",
   "pygments_lexer": "ipython3",
   "version": "3.5.2"
  }
 },
 "nbformat": 4,
 "nbformat_minor": 1
}
